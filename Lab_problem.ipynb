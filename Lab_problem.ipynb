{
 "cells": [
  {
   "cell_type": "markdown",
   "metadata": {},
   "source": [
    "#01"
   ]
  },
  {
   "cell_type": "code",
   "execution_count": null,
   "metadata": {},
   "outputs": [
    {
     "name": "stdout",
     "output_type": "stream",
     "text": [
      "For Cluster size N = 4\n",
      "-------------------------\n",
      "Total number of channels available per cell: 165 channels\n",
      "Voice Channel: 160 channels\n",
      "Control Channel: 5 channels\n",
      "\n",
      "For Cluster size N = 7\n",
      "-------------------------\n",
      "Total number of channels available per cell: 94 channels\n",
      "Voice Channel: 91 channels\n",
      "Control Channel: 3 channels\n",
      "\n",
      "For Cluster size N = 12\n",
      "-------------------------\n",
      "Total number of channels available per cell: 55 channels\n",
      "Voice Channel: 53 channels\n",
      "Control Channel: 2 channels\n",
      "\n"
     ]
    }
   ],
   "source": [
    "# User input for cluster sizes, e.g., \n",
    "cluster_sizes = [4, 7, 12];\n",
    "\n",
    "# Given constants\n",
    "bw = 33000                  # Total bandwidth in kHz\n",
    "sim_ch_bw = 25              # Simplex channel bandwidth in kHz\n",
    "dup_ch_bw = 2 * sim_ch_bw   # Duplex channel bandwidth in kHz\n",
    "\n",
    "t_ch = bw / dup_ch_bw       # Total available channels\n",
    "\n",
    "cc_bw = 1000                # Control channel bandwidth\n",
    "t_cc = cc_bw / dup_ch_bw    # Number of available control channels\n",
    "\n",
    "# Loop through each cluster size in the list\n",
    "for N in cluster_sizes:\n",
    "    # Calculate channels per cell and other values for each cluster size\n",
    "    ch_per_cell = round(t_ch / N)         # Channels available per cell\n",
    "    vc = round((t_ch - t_cc) / N)         # Voice channels\n",
    "    cc = ch_per_cell - vc                 # Control channels\n",
    "    \n",
    "    # Print results for each cluster size\n",
    "    print(f\"For Cluster size N = {N}\")\n",
    "    print(\"-------------------------\")\n",
    "    print(f\"Total number of channels available per cell: {ch_per_cell} channels\")\n",
    "    print(f\"Voice Channel: {vc} channels\")\n",
    "    print(f\"Control Channel: {cc} channels\\n\")\n"
   ]
  },
  {
   "cell_type": "markdown",
   "metadata": {},
   "source": [
    "#02"
   ]
  },
  {
   "cell_type": "code",
   "execution_count": 10,
   "metadata": {},
   "outputs": [
    {
     "name": "stdout",
     "output_type": "stream",
     "text": [
      "For Path Loss Exponent, n = 4\n",
      "---------------------------\n",
      "Signal-to-Interference Ratio S/I: 18.663 dB > 15 dB\n",
      "Hence, Cluster size N: 7\n",
      "Frequency Reuse Factor Q: 4.583\n",
      "\n",
      "For Path Loss Exponent, n = 3\n",
      "---------------------------\n",
      "Signal-to-Interference Ratio S/I: 15.563 dB > 15 dB\n",
      "Hence, Cluster size N: 12\n",
      "Frequency Reuse Factor Q: 6.000\n",
      "\n"
     ]
    }
   ],
   "source": [
    "# User input for path loss exponents, e.g., [4, 3]\n",
    "pl_exponent = [4,3]\n",
    "# Given constants\n",
    "r_si = 15               # Minimum Required S/I in dB\n",
    "i0 = 6                  # Number of Co-channel interfering cells\n",
    "N = 7                   # Initial cluster size\n",
    "\n",
    "# Loop through each path loss exponent\n",
    "for n in pl_exponent:\n",
    "    # Calculate the frequency reuse factor and S/I ratio\n",
    "    Q = np.sqrt(3 * N)                  # Frequency reuse factor\n",
    "    si = 10 * np.log10((Q**n) / i0)     # Signal-to-interference ratio in dB\n",
    "\n",
    "    # Check if condition is satisfied, if not adjust N and recalculate\n",
    "    if si < r_si:\n",
    "        i, j = 2, 2\n",
    "        N = (i * i) + (i * j) + (j * j) # Recalculate cluster size\n",
    "        Q = np.sqrt(3 * N)\n",
    "        si = 10 * np.log10((Q**n) / i0)\n",
    "\n",
    "    # Print results for each path loss exponent\n",
    "    print(f\"For Path Loss Exponent, n = {n}\")\n",
    "    print(\"---------------------------\")\n",
    "    print(f\"Signal-to-Interference Ratio S/I: {si:.3f} dB > {r_si} dB\")\n",
    "    print(f\"Hence, Cluster size N: {N}\")\n",
    "    print(f\"Frequency Reuse Factor Q: {Q:.3f}\\n\")\n"
   ]
  },
  {
   "cell_type": "markdown",
   "metadata": {},
   "source": [
    "#03"
   ]
  },
  {
   "cell_type": "code",
   "execution_count": 16,
   "metadata": {},
   "outputs": [
    {
     "name": "stdout",
     "output_type": "stream",
     "text": [
      "Blocking probability: 0.005\n",
      "Traffic intensity per user: 0.1 \n",
      "Traffic intensity\n",
      "[0.005, 1.13, 3.96, 11.1, 80.9]\n",
      "Channel\n",
      "[1, 5, 10, 20, 100]\n",
      "Number of users\n",
      "[0, 11, 40, 111, 809]\n"
     ]
    }
   ],
   "source": [
    "Gos = 0.5 / 100\n",
    "Au = 0.1\n",
    "# from table\n",
    "A = [0.005, 1.13, 3.96, 11.1, 80.9]\n",
    "c = [1, 5, 10, 20, 100]\n",
    "\n",
    "# Display information\n",
    "print(f'Blocking probability: {Gos}')\n",
    "\n",
    "print(f'Traffic intensity per user: {Au} ')\n",
    "\n",
    "print('Traffic intensity')\n",
    "print(A)\n",
    "print('Channel')\n",
    "print(c)\n",
    "\n",
    "# Calculate number of users\n",
    "U = [a / Au for a in A]\n",
    "u = [round(u_val) for u_val in U]\n",
    "\n",
    "# Display number of users\n",
    "print('Number of users')\n",
    "print(u)"
   ]
  },
  {
   "cell_type": "markdown",
   "metadata": {},
   "source": [
    "#04"
   ]
  },
  {
   "cell_type": "code",
   "execution_count": 17,
   "metadata": {},
   "outputs": [
    {
     "name": "stdout",
     "output_type": "stream",
     "text": [
      "For system A:\n",
      "Number of users in System A: 120.0\n",
      "Total number of subscriber in system A: 47280.0\n",
      "Percentage market penetration for A: 2.3640000000000003\n",
      "\n",
      "For system B:\n",
      "Number of users in System B: 450.0\n",
      "Total number of subscriber in system B: 44100.0\n",
      "Percentage market penetration for B: 2.205\n",
      "\n",
      "For system C:\n",
      "Number of users in System C: 880.0\n",
      "Total number of subscriber in system C: 43120.0\n",
      "Percentage market penetration for C: 2.156\n",
      "\n",
      "Total number of subscribers for all three systems: 134500.0\n",
      "Market penetration for all three systems: 6.7250000000000005\n"
     ]
    }
   ],
   "source": [
    "blocking_p = 2 / 100\n",
    "lamda = 2\n",
    "H = 3 / 60\n",
    "Au = lamda * H\n",
    "\n",
    "# System A\n",
    "channel_a = 19\n",
    "cell_A = 394\n",
    "A = 12\n",
    "Ua = A / Au\n",
    "subscriber_A = Ua * cell_A\n",
    "percentage_market_penetration_for_A = (subscriber_A / 2000000) * 100\n",
    "\n",
    "# System B\n",
    "channel_b = 57\n",
    "cell_B = 98\n",
    "Ab = 45\n",
    "Ub = Ab / Au\n",
    "subscriber_B = Ub * cell_B\n",
    "percentage_market_penetration_for_B = (subscriber_B / 2000000) * 100\n",
    "\n",
    "# System C\n",
    "channel_c = 100\n",
    "cell_C = 49\n",
    "Ac = 88\n",
    "Uc = Ac / Au\n",
    "subscriber_C = Uc * cell_C\n",
    "percentage_market_penetration_for_C = (subscriber_C / 2000000) * 100\n",
    "\n",
    "Total_number_of_subscriber = subscriber_A + subscriber_B + subscriber_C\n",
    "Market_penetration_for_three_system = (Total_number_of_subscriber / 2000000) * 100\n",
    "\n",
    "print(\"For system A:\")\n",
    "print(\"Number of users in System A:\", Ua)\n",
    "print(\"Total number of subscriber in system A:\", subscriber_A)\n",
    "print(\"Percentage market penetration for A:\", percentage_market_penetration_for_A)\n",
    "\n",
    "print(\"\\nFor system B:\")\n",
    "print(\"Number of users in System B:\", Ub)\n",
    "print(\"Total number of subscriber in system B:\", subscriber_B)\n",
    "print(\"Percentage market penetration for B:\", percentage_market_penetration_for_B)\n",
    "\n",
    "print(\"\\nFor system C:\")\n",
    "print(\"Number of users in System C:\", Uc)\n",
    "print(\"Total number of subscriber in system C:\", subscriber_C)\n",
    "print(\"Percentage market penetration for C:\", percentage_market_penetration_for_C)\n",
    "\n",
    "print(\"\\nTotal number of subscribers for all three systems:\", Total_number_of_subscriber)\n",
    "print(\"Market penetration for all three systems:\", Market_penetration_for_three_system)"
   ]
  },
  {
   "cell_type": "markdown",
   "metadata": {},
   "source": [
    "#05"
   ]
  },
  {
   "cell_type": "code",
   "execution_count": 18,
   "metadata": {},
   "outputs": [
    {
     "name": "stdout",
     "output_type": "stream",
     "text": [
      "(a)\n",
      "Number of cells: 31\n",
      "(b)\n",
      "Number of channels per cell: 95\n",
      "(c)\n",
      "Traffic intensity per cell: 83.13\n",
      "(d)\n",
      "Maximum carried traffic: 2577.0299999999997\n",
      "(e)\n",
      "Total number of users: 85901.0\n",
      "(f)\n",
      "Number of mobiles per channel: 129\n",
      "(g)\n",
      "Theoretical maximum number of users that could be served: 2945\n"
     ]
    }
   ],
   "source": [
    "import math\n",
    "\n",
    "# Given values\n",
    "area = 1300\n",
    "radius = 4\n",
    "each_cell_covers = math.floor(2.5981 * radius ** 2)  # in square kilometers\n",
    "print('(a)')\n",
    "number_of_cells = math.floor(area / each_cell_covers)\n",
    "print(\"Number of cells:\", number_of_cells)\n",
    "\n",
    "# (b)\n",
    "allocated_spectrum = 40000\n",
    "channel_width = 60\n",
    "frequency_reuse_factor = 7\n",
    "print('(b)')\n",
    "number_of_channel_per_cell = math.floor(allocated_spectrum / (channel_width * frequency_reuse_factor))\n",
    "print(\"Number of channels per cell:\", number_of_channel_per_cell)\n",
    "\n",
    "# (c)\n",
    "print('(c)')\n",
    "traffic_intensity_per_cell = 83.13  # from erlang chart B\n",
    "print(\"Traffic intensity per cell:\", traffic_intensity_per_cell)\n",
    "# (d)\n",
    "print('(d)')\n",
    "maximum_carried_traffic = number_of_cells * traffic_intensity_per_cell\n",
    "print(\"Maximum carried traffic:\", maximum_carried_traffic)\n",
    "\n",
    "# (e)\n",
    "traffic_per_user = 0.03\n",
    "print('(e)')\n",
    "total_number_of_user = maximum_carried_traffic / traffic_per_user\n",
    "print(\"Total number of users:\", total_number_of_user)\n",
    "\n",
    "# (f)\n",
    "number_of_channels = number_of_channel_per_cell * frequency_reuse_factor\n",
    "print('(f)')\n",
    "number_of_mobile_per_channel = math.floor(total_number_of_user / number_of_channels)\n",
    "print(\"Number of mobiles per channel:\", number_of_mobile_per_channel)\n",
    "\n",
    "# (g)\n",
    "print('(g)')\n",
    "theoretical_maximum_number_of_user_that_could_be_served = number_of_cells * number_of_channel_per_cell\n",
    "print(\"Theoretical maximum number of users that could be served:\",\n",
    "      theoretical_maximum_number_of_user_that_could_be_served)"
   ]
  },
  {
   "cell_type": "markdown",
   "metadata": {},
   "source": [
    "#06"
   ]
  },
  {
   "cell_type": "code",
   "execution_count": 2,
   "metadata": {},
   "outputs": [
    {
     "name": "stdout",
     "output_type": "stream",
     "text": [
      "(a)Transmitted Power: 47.0 dBm\n",
      "(b)Transmitted Power: 17.0 dBW\n",
      "(c)Received Power: -24.5 dBm\n",
      "(d)Received Power: -64.5 dBm\n"
     ]
    }
   ],
   "source": [
    "import math\n",
    "\n",
    "Pt = 50  # Transmitter Power\n",
    "fc = 900  # Carrier Frequency\n",
    "\n",
    "# a\n",
    "PtdBm = 10 * math.log10(Pt * 1e3)\n",
    "print('(a)Transmitted Power: %.1f dBm' % PtdBm)\n",
    "\n",
    "# b\n",
    "PtBW = 10 * math.log10(Pt)\n",
    "print('(b)Transmitted Power: %.1f dBW' % PtBW)\n",
    "\n",
    "# received power\n",
    "Gt, Gr, lam, d, L = 1, 1, (1 / 3), 100, 1\n",
    "Pr = (Pt * Gt * Gr * (lam ** 2)) / (((4 * math.pi) ** 2) * (d ** 2) * L)\n",
    "PrdBm = 10 * math.log10(Pr * 1e3)\n",
    "print('(c)Received Power: %.1f dBm' % PrdBm)\n",
    "\n",
    "# Pr(10Km)\n",
    "Pr10Km = PrdBm + 20 * math.log10(100 / 10000)\n",
    "print('(d)Received Power: %.1f dBm' % Pr10Km)\n"
   ]
  },
  {
   "cell_type": "markdown",
   "metadata": {},
   "source": [
    "#07"
   ]
  },
  {
   "cell_type": "code",
   "execution_count": 3,
   "metadata": {},
   "outputs": [
    {
     "name": "stdout",
     "output_type": "stream",
     "text": [
      "Path loss: 137.29\n"
     ]
    }
   ],
   "source": [
    "import math\n",
    "\n",
    "# Given values\n",
    "hre = 2  # Height of the receiving antenna (meters)\n",
    "hte = 100  # Height of the transmitting antenna (meters)\n",
    "fc = 900  # Frequency (MHz)\n",
    "d = 4  # Distance between antennas (kilometers)\n",
    "\n",
    "# Calculate a_hre\n",
    "a_hre = 3.2 * (math.log10(11.75 * hre)) ** 2 - 4.97\n",
    "\n",
    "# Calculate path loss\n",
    "Lp = 69.55 + 26.16 * math.log10(fc) - 13.82 * math.log10(hte) - a_hre + (44.9 - 6.55 * math.log10(hte)) * math.log10(d)\n",
    "\n",
    "print('Path loss: %.2f' % Lp)"
   ]
  },
  {
   "cell_type": "markdown",
   "metadata": {},
   "source": [
    "#08"
   ]
  },
  {
   "cell_type": "code",
   "execution_count": 9,
   "metadata": {},
   "outputs": [
    {
     "name": "stdout",
     "output_type": "stream",
     "text": [
      "Distance, d= 0.0361 m\n",
      "The path loss in a high-rise urban area, Lp = 68.91 dB\n"
     ]
    }
   ],
   "source": [
    "import math\n",
    "\n",
    "# Given values\n",
    "fc = 1.8  # Frequency in GHz\n",
    "hb = 20   # Effective transmitter (base station) antenna height in meters\n",
    "\n",
    "# T-R separation distance in kilometers\n",
    "d = math.sqrt(20**2 + 30**2) / 1000\n",
    "\n",
    "# Path Loss calculation in high-rise urban areas\n",
    "Lp = 135.41 + (12.49 * math.log10(fc)) - (4.99 * math.log10(hb)) + ((46.84 - 2.34 * math.log10(hb)) * math.log10(d))\n",
    "print(f'Distance, d= { d:.4f} m')\n",
    "print(f'The path loss in a high-rise urban area, Lp = {Lp:.2f} dB')\n"
   ]
  },
  {
   "cell_type": "markdown",
   "metadata": {},
   "source": [
    "#09"
   ]
  },
  {
   "cell_type": "code",
   "execution_count": 10,
   "metadata": {},
   "outputs": [
    {
     "name": "stdout",
     "output_type": "stream",
     "text": [
      "For (a)\n",
      "---------\n",
      "Length of the antenna : 0.083 m\n",
      "Gain of the antenna : 1.8 = 2.55 dB\n",
      "\n",
      "\n",
      "For (b)\n",
      "---------\n",
      "Electric Field, Er(d) : 0.000113097 V/m\n",
      "Effective Aperture, Ae : 0.016 m^2\n",
      "Received power at 5 km distance Er(5 km) : -122.679 dBW\n"
     ]
    }
   ],
   "source": [
    "import math\n",
    "\n",
    "# Given values\n",
    "f = 900  # Frequency in MHz\n",
    "g = 2.55  # Gain of antenna in dB\n",
    "\n",
    "# Question (a)\n",
    "gain = 10 ** (g / 10)  # Linear gain\n",
    "lemda = (3 * 10**8) / (f * 10**6)  # Wavelength in meters\n",
    "L = lemda / 4  # Antenna length in meters\n",
    "\n",
    "print(\"For (a)\")\n",
    "print(\"---------\")\n",
    "print(f\"Length of the antenna : {L:.3f} m\")\n",
    "print(f\"Gain of the antenna : {gain:.1f} = {g:.2f} dB\\n\\n\")\n",
    "\n",
    "# Question (b)\n",
    "print(\"For (b)\")\n",
    "print(\"---------\")\n",
    "d = 5000  # T-R separation distance in meters\n",
    "E0 = 10**-3  # Electric field strength at reference distance\n",
    "d0 = 1000  # Reference distance in meters\n",
    "ht = 50  # Transmitting antenna height in meters\n",
    "hr = 1.5  # Receiving antenna height in meters\n",
    "\n",
    "# Calculate Electric Field, Effective Aperture, and Received Power\n",
    "Er_d = (2 * E0 * d0 * 2 * math.pi * ht * hr) / (lemda * d**2)  # Electric Field at distance d\n",
    "Ae = (gain * lemda**2) / (4 * math.pi)  # Effective Aperture\n",
    "Pr_d = (Er_d**2 / (120 * math.pi)) * Ae  # Received Power at distance d\n",
    "Pr_dB = 10 * math.log10(Pr_d)  # Received Power in dBW\n",
    "\n",
    "print(f\"Electric Field, Er(d) : {Er_d:.9f} V/m\")\n",
    "print(f\"Effective Aperture, Ae : {Ae:.3f} m^2\")\n",
    "print(f\"Received power at 5 km distance Er(5 km) : {Pr_dB:.3f} dBW\")\n"
   ]
  },
  {
   "cell_type": "markdown",
   "metadata": {},
   "source": [
    "#10"
   ]
  },
  {
   "cell_type": "code",
   "execution_count": 11,
   "metadata": {},
   "outputs": [
    {
     "name": "stdout",
     "output_type": "stream",
     "text": [
      "(a) Number of users per square km: 62 users/sq km\n",
      "\n",
      "(b) The probability that a delayed call will have to wait: 56.29%\n",
      "\n",
      "(c) The probability that a call will be delayed: 2.81%\n",
      "\n"
     ]
    }
   ],
   "source": [
    "import numpy as np\n",
    "\n",
    "# Given constants\n",
    "R = 1.387               # Cell Radius\n",
    "n = 4                   # Number of cells\n",
    "N = 60                  # Total number of channels\n",
    "area = round(2.5981 * R**2)  # Area covered per cell\n",
    "C = N / n               # Number of channels per cell\n",
    "A = 9                   # Traffic intensity at c=15, GOS=0.05, Au=0.029 from Erlang C chart\n",
    "\n",
    "# Question (a)\n",
    "Au = 0.029              # Traffic per user\n",
    "U = int(A / Au)         # Number of users\n",
    "U_per = round(U / area) # Number of users per square km\n",
    "print(f\"(a) Number of users per square km: {U_per} users/sq km\\n\")\n",
    "\n",
    "# Question (b)\n",
    "lambda_ = 1             # Lambda = 1 hour\n",
    "H = (Au / lambda_) * 3600  # Holding Time in seconds\n",
    "Prb = np.exp((-(C - A) * 10) / H)  # t = 10s, C = 15, A = 9, H in seconds\n",
    "print(f\"(b) The probability that a delayed call will have to wait: {Prb * 100:.2f}%\\n\")\n",
    "\n",
    "# Question (c)\n",
    "Prc = 0.05 * Prb * 100  # 5% probability of delayed call\n",
    "print(f\"(c) The probability that a call will be delayed: {Prc:.2f}%\\n\")\n"
   ]
  }
 ],
 "metadata": {
  "kernelspec": {
   "display_name": "Python 3",
   "language": "python",
   "name": "python3"
  },
  "language_info": {
   "codemirror_mode": {
    "name": "ipython",
    "version": 3
   },
   "file_extension": ".py",
   "mimetype": "text/x-python",
   "name": "python",
   "nbconvert_exporter": "python",
   "pygments_lexer": "ipython3",
   "version": "3.11.7"
  }
 },
 "nbformat": 4,
 "nbformat_minor": 2
}
